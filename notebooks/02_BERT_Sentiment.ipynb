{
 "cells": [
  {
   "cell_type": "markdown",
   "id": "26b2b720",
   "metadata": {},
   "source": [
    "# 📊 Fine-Tuning BERT for Sentiment Analysis (IMDB)"
   ]
  },
  {
   "cell_type": "code",
   "execution_count": null,
   "id": "6bac47c0",
   "metadata": {},
   "outputs": [],
   "source": [
    "!pip install transformers datasets"
   ]
  },
  {
   "cell_type": "code",
   "execution_count": null,
   "id": "435c7902",
   "metadata": {},
   "outputs": [],
   "source": [
    "from transformers import pipeline\n",
    "from datasets import load_dataset\n",
    "\n",
    "# Load and sample the dataset\n",
    "dataset = load_dataset(\"imdb\", split=\"test[:5]\")\n",
    "classifier = pipeline(\"sentiment-analysis\", model=\"output/bert_sentiment\")\n",
    "\n",
    "for example in dataset:\n",
    "    print(\"Review:\", example['text'][:100])\n",
    "    result = classifier(example['text'])[0]\n",
    "    print(\"Sentiment:\", result['label'], \"Confidence:\", result['score'])\n",
    "    print(\"-\" * 80)\n"
   ]
  }
 ],
 "metadata": {},
 "nbformat": 4,
 "nbformat_minor": 5
}
