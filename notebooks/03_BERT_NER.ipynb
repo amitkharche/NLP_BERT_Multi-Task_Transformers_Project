{
 "cells": [
  {
   "cell_type": "markdown",
   "id": "6d471481",
   "metadata": {},
   "source": [
    "# 🏷️ Fine-Tuning BERT for Named Entity Recognition (NER)"
   ]
  },
  {
   "cell_type": "code",
   "execution_count": null,
   "id": "e66e4810",
   "metadata": {},
   "outputs": [],
   "source": [
    "!pip install transformers datasets"
   ]
  },
  {
   "cell_type": "code",
   "execution_count": null,
   "id": "ee8f1f9a",
   "metadata": {},
   "outputs": [],
   "source": [
    "from transformers import pipeline\n",
    "\n",
    "ner_pipeline = pipeline(\"ner\", model=\"output/bert_ner\", aggregation_strategy=\"simple\")\n",
    "\n",
    "text = \"Hugging Face Inc. is a company based in New York City. Its headquarters are in DUMBO, therefore very close to the Manhattan Bridge.\"\n",
    "entities = ner_pipeline(text)\n",
    "for entity in entities:\n",
    "    print(f\"{entity['word']} ({entity['entity_group']}) - Score: {entity['score']:.2f}\")\n"
   ]
  }
 ],
 "metadata": {},
 "nbformat": 4,
 "nbformat_minor": 5
}
