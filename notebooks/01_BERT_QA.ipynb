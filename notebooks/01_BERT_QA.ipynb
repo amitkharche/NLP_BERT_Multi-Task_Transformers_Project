{
 "cells": [
  {
   "cell_type": "markdown",
   "id": "ec9726ad",
   "metadata": {},
   "source": [
    "# 🧠 BERT for Question Answering with SQuAD Dataset"
   ]
  },
  {
   "cell_type": "code",
   "execution_count": null,
   "id": "5b0ddd5d",
   "metadata": {},
   "outputs": [],
   "source": [
    "!pip install transformers datasets"
   ]
  },
  {
   "cell_type": "code",
   "execution_count": null,
   "id": "a5eebe99",
   "metadata": {},
   "outputs": [],
   "source": [
    "from transformers import pipeline\n",
    "from datasets import load_dataset\n",
    "\n",
    "dataset = load_dataset(\"squad\")\n",
    "qa_pipeline = pipeline(\"question-answering\", model=\"bert-base-uncased\")\n",
    "\n",
    "context = dataset['train'][0]['context']\n",
    "question = dataset['train'][0]['question']\n",
    "\n",
    "result = qa_pipeline(question=question, context=context)\n",
    "print(\"Question:\", question)\n",
    "print(\"Answer:\", result['answer'])"
   ]
  }
 ],
 "metadata": {},
 "nbformat": 4,
 "nbformat_minor": 5
}
